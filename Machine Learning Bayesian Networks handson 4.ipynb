{
 "cells": [
  {
   "cell_type": "code",
   "execution_count": 5,
   "id": "2e87872d",
   "metadata": {},
   "outputs": [],
   "source": [
    "trials <-10000"
   ]
  },
  {
   "cell_type": "markdown",
   "id": "16d88170",
   "metadata": {},
   "source": [
    "number of trials 10,000"
   ]
  },
  {
   "cell_type": "code",
   "execution_count": 6,
   "id": "010b7b72",
   "metadata": {},
   "outputs": [],
   "source": [
    "alpha <- 9\n",
    "beta <- 1"
   ]
  },
  {
   "cell_type": "markdown",
   "id": "346385b5",
   "metadata": {},
   "source": [
    "alpha would be at 90% and the rest 10% beta "
   ]
  },
  {
   "cell_type": "code",
   "execution_count": 7,
   "id": "68b61ba1",
   "metadata": {},
   "outputs": [],
   "source": [
    "samplesA <- rbeta(trials, 27+alpha, 39 + beta)\n",
    "samplesB <- rbeta(trials, 10+alpha, 45 + beta)"
   ]
  },
  {
   "cell_type": "code",
   "execution_count": 8,
   "id": "514c76d9",
   "metadata": {},
   "outputs": [],
   "source": [
    "Bsuperior <- sum(samplesB > samplesA) / trials"
   ]
  },
  {
   "cell_type": "code",
   "execution_count": 9,
   "id": "ad3d6cb6",
   "metadata": {},
   "outputs": [
    {
     "data": {
      "text/html": [
       "0.0129"
      ],
      "text/latex": [
       "0.0129"
      ],
      "text/markdown": [
       "0.0129"
      ],
      "text/plain": [
       "[1] 0.0129"
      ]
     },
     "metadata": {},
     "output_type": "display_data"
    }
   ],
   "source": [
    "Bsuperior"
   ]
  },
  {
   "cell_type": "markdown",
   "id": "255c6ca5",
   "metadata": {},
   "source": [
    "Theres a .01 chance that the mold will not grow back after being scrubed with bleach "
   ]
  }
 ],
 "metadata": {
  "kernelspec": {
   "display_name": "R",
   "language": "R",
   "name": "ir"
  },
  "language_info": {
   "codemirror_mode": "r",
   "file_extension": ".r",
   "mimetype": "text/x-r-source",
   "name": "R",
   "pygments_lexer": "r",
   "version": "4.2.0"
  }
 },
 "nbformat": 4,
 "nbformat_minor": 5
}
